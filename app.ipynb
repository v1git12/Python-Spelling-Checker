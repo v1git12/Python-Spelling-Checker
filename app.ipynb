{
    "cells": [
        {
            "metadata": {
                "collapsed": true
            },
            "cell_type": "markdown",
            "source": "# This Project Use python's Textblob library to corrected the spelling of any English word"
        },
        {
            "metadata": {},
            "cell_type": "code",
            "source": "! pip install textblob",
            "execution_count": 1,
            "outputs": [
                {
                    "output_type": "stream",
                    "text": "/opt/conda/envs/Python-3.7-main/lib/python3.7/site-packages/secretstorage/dhcrypto.py:16: CryptographyDeprecationWarning: int_from_bytes is deprecated, use int.from_bytes instead\n  from cryptography.utils import int_from_bytes\n/opt/conda/envs/Python-3.7-main/lib/python3.7/site-packages/secretstorage/util.py:25: CryptographyDeprecationWarning: int_from_bytes is deprecated, use int.from_bytes instead\n  from cryptography.utils import int_from_bytes\nCollecting textblob\n  Downloading textblob-0.15.3-py2.py3-none-any.whl (636 kB)\n\u001b[K     |\u2588\u2588\u2588\u2588\u2588\u2588\u2588\u2588\u2588\u2588\u2588\u2588\u2588\u2588\u2588\u2588\u2588\u2588\u2588\u2588\u2588\u2588\u2588\u2588\u2588\u2588\u2588\u2588\u2588\u2588\u2588\u2588| 636 kB 14.2 MB/s eta 0:00:01\n\u001b[?25hRequirement already satisfied: nltk>=3.1 in /opt/conda/envs/Python-3.7-main/lib/python3.7/site-packages (from textblob) (3.5)\nRequirement already satisfied: click in /opt/conda/envs/Python-3.7-main/lib/python3.7/site-packages (from nltk>=3.1->textblob) (7.1.2)\nRequirement already satisfied: tqdm in /opt/conda/envs/Python-3.7-main/lib/python3.7/site-packages (from nltk>=3.1->textblob) (4.47.0)\nRequirement already satisfied: regex in /opt/conda/envs/Python-3.7-main/lib/python3.7/site-packages (from nltk>=3.1->textblob) (2020.6.8)\nRequirement already satisfied: joblib in /opt/conda/envs/Python-3.7-main/lib/python3.7/site-packages (from nltk>=3.1->textblob) (0.16.0)\nInstalling collected packages: textblob\nSuccessfully installed textblob-0.15.3\n",
                    "name": "stdout"
                }
            ]
        },
        {
            "metadata": {},
            "cell_type": "markdown",
            "source": "# Importing Library"
        },
        {
            "metadata": {},
            "cell_type": "code",
            "source": "from textblob import TextBlob\n\n",
            "execution_count": 2,
            "outputs": []
        },
        {
            "metadata": {},
            "cell_type": "code",
            "source": "\n#incorrected Spelling\na =input(\"Enter any word of English: \")\nprint(\"Original Text: \"+str(a))\n\nb= TextBlob(a)\n\nprint(\"Corrected Text:\" +str(b.correct()))\n",
            "execution_count": 4,
            "outputs": [
                {
                    "output_type": "stream",
                    "name": "stdout",
                    "text": "Enter any word of English: moblie\nOriginal Text: moblie\nCorrected Text:mobile\n"
                }
            ]
        },
        {
            "metadata": {},
            "cell_type": "code",
            "source": "",
            "execution_count": null,
            "outputs": []
        }
    ],
    "metadata": {
        "kernelspec": {
            "name": "python3",
            "display_name": "Python 3.7",
            "language": "python"
        },
        "language_info": {
            "name": "python",
            "version": "3.7.10",
            "mimetype": "text/x-python",
            "codemirror_mode": {
                "name": "ipython",
                "version": 3
            },
            "pygments_lexer": "ipython3",
            "nbconvert_exporter": "python",
            "file_extension": ".py"
        }
    },
    "nbformat": 4,
    "nbformat_minor": 1
}